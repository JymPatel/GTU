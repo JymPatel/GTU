{
 "cells": [
  {
   "cell_type": "markdown",
   "id": "56cfc9bb-adf1-484f-860c-823cea49bff2",
   "metadata": {},
   "source": [
    "a = 1\n",
    "b = \"1\"\n",
    "c = 1.00\n",
    "d = True"
   ]
  },
  {
   "cell_type": "code",
   "execution_count": 5,
   "id": "361876e2",
   "metadata": {},
   "outputs": [
    {
     "name": "stdout",
     "output_type": "stream",
     "text": [
      "a: 140720431555368, b: 140720431598720, c: 1563503811696, d: 140720430029672\n"
     ]
    }
   ],
   "source": [
    "print(f\"a: {id(a)}, b: {id(b)}, c: {id(c)}, d: {id(d)}\")"
   ]
  },
  {
   "cell_type": "code",
   "execution_count": 8,
   "id": "59e4e106",
   "metadata": {},
   "outputs": [
    {
     "name": "stdout",
     "output_type": "stream",
     "text": [
      "a: <class 'int'>, b: <class 'str'>, c: <class 'float'>, d: <class 'bool'>\n"
     ]
    }
   ],
   "source": [
    "print(f\"a: {type(a)}, b: {type(b)}, c: {type(c)}, d: {type(d)}\")"
   ]
  }
 ],
 "metadata": {
  "kernelspec": {
   "display_name": "Python 3 (ipykernel)",
   "language": "python",
   "name": "python3"
  },
  "language_info": {
   "codemirror_mode": {
    "name": "ipython",
    "version": 3
   },
   "file_extension": ".py",
   "mimetype": "text/x-python",
   "name": "python",
   "nbconvert_exporter": "python",
   "pygments_lexer": "ipython3",
   "version": "3.11.4"
  }
 },
 "nbformat": 4,
 "nbformat_minor": 5
}
