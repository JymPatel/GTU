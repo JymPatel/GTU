{
 "cells": [
  {
   "cell_type": "markdown",
   "metadata": {},
   "source": [
    "**Practical 33**\n",
    "\n",
    "Write a python program for paring XML using XPath."
   ]
  },
  {
   "cell_type": "code",
   "execution_count": 2,
   "metadata": {},
   "outputs": [
    {
     "name": "stdout",
     "output_type": "stream",
     "text": [
      "catalog\n",
      "[['Smith, John', 'Johnson, Mary', 'Roberts, David', 'Lee, Sarah', 'Baker, Michael', 'Williams, Laura', 'King, Stephen', 'Chen, Mei', 'Wilson, James', 'Anderson, Emily'], ['The Art of Programming', 'Into the Wild', 'The Enigma Code', 'Love in the City', 'Space Odyssey', 'Mystery Mansion', 'The Haunting', 'Recipes from Around the World', 'History Uncovered', 'Gardening for Beginners'], [29.99, 12.99, 14.95, 9.99, 19.99, 11.99, 13.99, 10.99, 15.99, 8.99], ['Computer', 'Adventure', 'Thriller', 'Romance', 'Science Fiction', 'Mystery', 'Horror', 'Cookbook', 'History', 'Gardening'], ['2023-05-15', '2023-08-20', '2023-06-10', '2023-02-14', '2023-10-30', '2023-04-18', '2023-10-28', '2023-01-05', '2023-07-22', '2023-03-12']]\n",
      "                              0                    1                      2  \\\n",
      "0             [[[Smith, John]]]  [[[Johnson, Mary]]]   [[[Roberts, David]]]   \n",
      "1  [[[The Art of Programming]]]  [[[Into the Wild]]]  [[[The Enigma Code]]]   \n",
      "2                   [[[29.99]]]          [[[12.99]]]            [[[14.95]]]   \n",
      "3                [[[Computer]]]      [[[Adventure]]]         [[[Thriller]]]   \n",
      "4              [[[2023-05-15]]]     [[[2023-08-20]]]       [[[2023-06-10]]]   \n",
      "\n",
      "                        3                      4                      5  \\\n",
      "0        [[[Lee, Sarah]]]   [[[Baker, Michael]]]  [[[Williams, Laura]]]   \n",
      "1  [[[Love in the City]]]    [[[Space Odyssey]]]  [[[Mystery Mansion]]]   \n",
      "2              [[[9.99]]]            [[[19.99]]]            [[[11.99]]]   \n",
      "3           [[[Romance]]]  [[[Science Fiction]]]          [[[Mystery]]]   \n",
      "4        [[[2023-02-14]]]       [[[2023-10-30]]]       [[[2023-04-18]]]   \n",
      "\n",
      "                     6                                    7  \\\n",
      "0  [[[King, Stephen]]]                      [[[Chen, Mei]]]   \n",
      "1   [[[The Haunting]]]  [[[Recipes from Around the World]]]   \n",
      "2          [[[13.99]]]                          [[[10.99]]]   \n",
      "3         [[[Horror]]]                       [[[Cookbook]]]   \n",
      "4     [[[2023-10-28]]]                     [[[2023-01-05]]]   \n",
      "\n",
      "                         8                              9  \n",
      "0      [[[Wilson, James]]]          [[[Anderson, Emily]]]  \n",
      "1  [[[History Uncovered]]]  [[[Gardening for Beginners]]]  \n",
      "2              [[[15.99]]]                     [[[8.99]]]  \n",
      "3            [[[History]]]                [[[Gardening]]]  \n",
      "4         [[[2023-07-22]]]               [[[2023-03-12]]]  \n"
     ]
    }
   ],
   "source": [
    "from lxml import objectify\n",
    "import pandas as pd\n",
    "from distutils import util\n",
    "xml = objectify.parse(open('books.xml'))\n",
    "root = xml.getroot()\n",
    "print(root.tag)\n",
    "a=root.xpath('book/author')\n",
    "t=root.xpath('book/title')\n",
    "p=root.xpath('book/price')\n",
    "g=root.xpath('book/genre')\n",
    "pdd=root.xpath('book/publish_date')\n",
    "list1=[a,t,p,g,pdd]\n",
    "print(list1)\n",
    "df = pd.DataFrame(list1)\n",
    "print(df)"
   ]
  },
  {
   "cell_type": "code",
   "execution_count": null,
   "metadata": {},
   "outputs": [],
   "source": []
  }
 ],
 "metadata": {
  "kernelspec": {
   "display_name": "Python 3",
   "language": "python",
   "name": "python3"
  },
  "language_info": {
   "codemirror_mode": {
    "name": "ipython",
    "version": 3
   },
   "file_extension": ".py",
   "mimetype": "text/x-python",
   "name": "python",
   "nbconvert_exporter": "python",
   "pygments_lexer": "ipython3",
   "version": "3.10.12"
  }
 },
 "nbformat": 4,
 "nbformat_minor": 2
}
