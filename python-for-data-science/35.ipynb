{
 "cells": [
  {
   "cell_type": "markdown",
   "metadata": {},
   "source": [
    "**Practical 35**  \n",
    "\n",
    "Write a python program to print telephone numbers placed in sentences using\n",
    "regular expressions."
   ]
  },
  {
   "cell_type": "code",
   "execution_count": 1,
   "metadata": {},
   "outputs": [
    {
     "name": "stdout",
     "output_type": "stream",
     "text": [
      "Phone number in data1: 123-456-7890\n",
      "Phone number in data2: 987-654-3210\n"
     ]
    }
   ],
   "source": [
    "import re\n",
    "\n",
    "data1 = 'Contact me at: 123-456-7890.'\n",
    "data2 = 'My office number is 987-654-3210.'\n",
    "pattern = r'\\d{3}-\\d{3}-\\d{4}'\n",
    "\n",
    "m1 = re.search(pattern, data1)\n",
    "if m1:\n",
    "    print(\"Phone number in data1:\", m1.group())\n",
    "else:\n",
    "    print(\"No phone number found in data1.\")\n",
    "\n",
    "m2 = re.search(pattern, data2)\n",
    "if m2:\n",
    "    print(\"Phone number in data2:\", m2.group())\n",
    "else:\n",
    "    print(\"No phone number found in data2.\")\n"
   ]
  },
  {
   "cell_type": "code",
   "execution_count": null,
   "metadata": {},
   "outputs": [],
   "source": []
  }
 ],
 "metadata": {
  "kernelspec": {
   "display_name": "Python 3",
   "language": "python",
   "name": "python3"
  },
  "language_info": {
   "codemirror_mode": {
    "name": "ipython",
    "version": 3
   },
   "file_extension": ".py",
   "mimetype": "text/x-python",
   "name": "python",
   "nbconvert_exporter": "python",
   "pygments_lexer": "ipython3",
   "version": "3.10.12"
  }
 },
 "nbformat": 4,
 "nbformat_minor": 2
}
