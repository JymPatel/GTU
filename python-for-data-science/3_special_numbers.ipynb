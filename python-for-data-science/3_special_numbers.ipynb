{
 "cells": [
  {
   "cell_type": "code",
   "execution_count": 1,
   "id": "27ee9ccf-94a2-4687-a94d-167844cc2926",
   "metadata": {},
   "outputs": [],
   "source": [
    "a = (200 // 3 + 1) * 3"
   ]
  },
  {
   "cell_type": "code",
   "execution_count": 3,
   "id": "cc55f7a5-1e63-4831-a50f-2e6d2683780a",
   "metadata": {},
   "outputs": [
    {
     "name": "stdout",
     "output_type": "stream",
     "text": [
      "210\n",
      "225\n",
      "240\n",
      "255\n",
      "270\n",
      "285\n",
      "300\n",
      "315\n",
      "330\n",
      "345\n",
      "360\n",
      "375\n",
      "390\n"
     ]
    }
   ],
   "source": [
    "for i in range(a, 401, 3):\n",
    "    if i % 5 == 0:\n",
    "        print(i)"
   ]
  }
 ],
 "metadata": {
  "kernelspec": {
   "display_name": "Python 3 (ipykernel)",
   "language": "python",
   "name": "python3"
  },
  "language_info": {
   "codemirror_mode": {
    "name": "ipython",
    "version": 3
   },
   "file_extension": ".py",
   "mimetype": "text/x-python",
   "name": "python",
   "nbconvert_exporter": "python",
   "pygments_lexer": "ipython3",
   "version": "3.11.4"
  }
 },
 "nbformat": 4,
 "nbformat_minor": 5
}
