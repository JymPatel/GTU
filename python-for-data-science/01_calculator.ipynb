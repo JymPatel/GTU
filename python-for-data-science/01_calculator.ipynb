{
 "cells": [
  {
   "cell_type": "code",
   "execution_count": 1,
   "id": "0d9cb8b3",
   "metadata": {},
   "outputs": [],
   "source": [
    "a = int(input(\"a? \"))\n",
    "b = int(input(\"b? \"))"
   ]
  },
  {
   "cell_type": "code",
   "execution_count": 2,
   "id": "0ad4e11c",
   "metadata": {},
   "outputs": [
    {
     "name": "stdout",
     "output_type": "stream",
     "text": [
      "addition: 7\n"
     ]
    }
   ],
   "source": [
    "print(f\"addition: {a + b}\")"
   ]
  },
  {
   "cell_type": "code",
   "execution_count": 3,
   "id": "551608a6",
   "metadata": {},
   "outputs": [
    {
     "name": "stdout",
     "output_type": "stream",
     "text": [
      "substraction: 3\n"
     ]
    }
   ],
   "source": [
    "print(f\"substraction: {a - b}\")"
   ]
  },
  {
   "cell_type": "code",
   "execution_count": 4,
   "id": "64c2452c",
   "metadata": {},
   "outputs": [
    {
     "name": "stdout",
     "output_type": "stream",
     "text": [
      "multiplication: 10\n"
     ]
    }
   ],
   "source": [
    "print(f\"multiplication: {a * b}\")"
   ]
  },
  {
   "cell_type": "code",
   "execution_count": 5,
   "id": "b8ca9e60",
   "metadata": {},
   "outputs": [
    {
     "name": "stdout",
     "output_type": "stream",
     "text": [
      "division: 2.5\n"
     ]
    }
   ],
   "source": [
    "print(f\"division: {a / b}\")"
   ]
  },
  {
   "cell_type": "code",
   "execution_count": 6,
   "id": "7ed716de",
   "metadata": {},
   "outputs": [
    {
     "name": "stdout",
     "output_type": "stream",
     "text": [
      "floor division: 2\n"
     ]
    }
   ],
   "source": [
    "print(f\"floor division: {a // b}\")"
   ]
  },
  {
   "cell_type": "code",
   "execution_count": 8,
   "id": "2655c805",
   "metadata": {},
   "outputs": [
    {
     "name": "stdout",
     "output_type": "stream",
     "text": [
      "exponent: 25\n"
     ]
    }
   ],
   "source": [
    "print(f\"exponent: {a ** b}\")"
   ]
  }
 ],
 "metadata": {
  "kernelspec": {
   "display_name": "Python 3 (ipykernel)",
   "language": "python",
   "name": "python3"
  },
  "language_info": {
   "codemirror_mode": {
    "name": "ipython",
    "version": 3
   },
   "file_extension": ".py",
   "mimetype": "text/x-python",
   "name": "python",
   "nbconvert_exporter": "python",
   "pygments_lexer": "ipython3",
   "version": "3.10.12"
  }
 },
 "nbformat": 4,
 "nbformat_minor": 5
}
