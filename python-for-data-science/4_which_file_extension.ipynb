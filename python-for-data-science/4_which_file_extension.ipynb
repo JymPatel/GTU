{
 "cells": [
  {
   "cell_type": "code",
   "execution_count": 1,
   "id": "aa48f24a-f025-4177-b7c0-ea7a687d233c",
   "metadata": {},
   "outputs": [],
   "source": [
    "filename = \"hello.py\""
   ]
  },
  {
   "cell_type": "code",
   "execution_count": 2,
   "id": "4cc7a61b-e1e1-4f0c-9c3c-83f15c26ff14",
   "metadata": {},
   "outputs": [
    {
     "name": "stdout",
     "output_type": "stream",
     "text": [
      "py\n"
     ]
    }
   ],
   "source": [
    "print(filename.split(\".\")[-1])"
   ]
  }
 ],
 "metadata": {
  "kernelspec": {
   "display_name": "Python 3 (ipykernel)",
   "language": "python",
   "name": "python3"
  },
  "language_info": {
   "codemirror_mode": {
    "name": "ipython",
    "version": 3
   },
   "file_extension": ".py",
   "mimetype": "text/x-python",
   "name": "python",
   "nbconvert_exporter": "python",
   "pygments_lexer": "ipython3",
   "version": "3.11.4"
  }
 },
 "nbformat": 4,
 "nbformat_minor": 5
}
