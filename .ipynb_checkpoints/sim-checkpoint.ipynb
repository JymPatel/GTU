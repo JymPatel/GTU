{
 "cells": [
  {
   "cell_type": "code",
   "execution_count": 13,
   "id": "0d9cb8b3",
   "metadata": {},
   "outputs": [
    {
     "name": "stdout",
     "output_type": "stream",
     "text": [
      "a? 5\n",
      "b? 34\n"
     ]
    }
   ],
   "source": [
    "a = int(input(\"a? \"))\n",
    "b = int(input(\"b? \"))"
   ]
  },
  {
   "cell_type": "code",
   "execution_count": 14,
   "id": "0ad4e11c",
   "metadata": {},
   "outputs": [
    {
     "name": "stdout",
     "output_type": "stream",
     "text": [
      "addition: 39\n"
     ]
    }
   ],
   "source": [
    "print(f\"addition: {a + b}\")"
   ]
  },
  {
   "cell_type": "code",
   "execution_count": 15,
   "id": "551608a6",
   "metadata": {},
   "outputs": [
    {
     "name": "stdout",
     "output_type": "stream",
     "text": [
      "substraction: -29\n"
     ]
    }
   ],
   "source": [
    "print(f\"substraction: {a - b}\")"
   ]
  },
  {
   "cell_type": "code",
   "execution_count": 16,
   "id": "64c2452c",
   "metadata": {},
   "outputs": [
    {
     "name": "stdout",
     "output_type": "stream",
     "text": [
      "multiplication: 170\n"
     ]
    }
   ],
   "source": [
    "print(f\"multiplication: {a * b}\")"
   ]
  },
  {
   "cell_type": "code",
   "execution_count": 17,
   "id": "b8ca9e60",
   "metadata": {},
   "outputs": [
    {
     "name": "stdout",
     "output_type": "stream",
     "text": [
      "division: 0.14705882352941177\n"
     ]
    }
   ],
   "source": [
    "print(f\"division: {a / b}\")"
   ]
  },
  {
   "cell_type": "code",
   "execution_count": null,
   "id": "8a29e893",
   "metadata": {},
   "outputs": [],
   "source": []
  },
  {
   "cell_type": "code",
   "execution_count": null,
   "id": "8a207d5b",
   "metadata": {},
   "outputs": [],
   "source": []
  },
  {
   "cell_type": "code",
   "execution_count": null,
   "id": "879f1330",
   "metadata": {},
   "outputs": [],
   "source": []
  }
 ],
 "metadata": {
  "kernelspec": {
   "display_name": "Python 3 (ipykernel)",
   "language": "python",
   "name": "python3"
  },
  "language_info": {
   "codemirror_mode": {
    "name": "ipython",
    "version": 3
   },
   "file_extension": ".py",
   "mimetype": "text/x-python",
   "name": "python",
   "nbconvert_exporter": "python",
   "pygments_lexer": "ipython3",
   "version": "3.9.12"
  }
 },
 "nbformat": 4,
 "nbformat_minor": 5
}
